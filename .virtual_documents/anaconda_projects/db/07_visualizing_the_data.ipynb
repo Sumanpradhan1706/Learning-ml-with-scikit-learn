import pandas as pd
import numpy as np


df = pd.read_csv("housing.csv")


df['income_cat'] = pd.cut(df['median_income'], bins = [0, 1.5, 3.0,  4.5, 6.0, np.inf], labels=[1,2,3,4,5])


from sklearn.model_selection import StratifiedShuffleSplit

# Assume income_cat is a column in the dataset created from median_income
split = StratifiedShuffleSplit(n_splits=1, test_size=0.2, random_state=42)

for train_index, test_index in split.split(df, df["income_cat"]):
    strat_train_set = df.loc[train_index]
    strat_test_set = df.loc[test_index]


#Lets remove the income_cat column
for sett in (strat_train_set, strat_test_set):
    sett.drop("income_cat", axis=1, inplace = True)


df = strat_train_set.copy()


df


housing = strat_train_set.drop("median_house_value", axis=1)
housing_labels = strat_train_set["median_house_value"].copy()



housing


housing_labels


from sklearn.impute import SimpleImputer
imputer = SimpleImputer(strategy="median")

housing_num = housing.select_dtypes(include=[np.number])
imputer.fit(housing_num)


imputer.statistics_


X = imputer.transform(housing_num)


X



