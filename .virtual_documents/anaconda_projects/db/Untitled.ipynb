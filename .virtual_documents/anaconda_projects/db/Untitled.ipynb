pip install scikit-learn


from sklearn.tree import DecisionTreeClassifier


features = [
    [150, 0],  # Apple
    [170, 0],  # Apple
    [130, 1],  # Orange
    [120, 1],  # Orange
]


labels = ["apple", "apple", "orange", "orange"]


clf = DecisionTreeClassifier()



clf = clf.fit(features, labels)


prediction = clf.predict([[160, 0]])


print(f"The fruit is {prediction[0]}")



