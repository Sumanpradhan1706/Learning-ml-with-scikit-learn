import pandas as pd


from sklearn.ensemble import RandomForestClassifier


data = pd.read_excel('iris - train.xlsx')  # Replace with your actual CSV file path


data.head()


X = data.iloc[:, :-1]  # All columns except the last as features



X


y = data.iloc[:, -1]   # Last column as label



y


model = RandomForestClassifier()
model.fit(X.values, y.values)


predictions = model.predict([[6.3 ,	2.9 ,	5.6	, 1.8
                             ]])  # Predict on the same/new data (for demonstration)


predictions


data2 = pd.read_excel('iris - test.xlsx')


data2


X_test = data2.iloc[:, : -1]


predictions = model.predict(X_test.values)


predictions



