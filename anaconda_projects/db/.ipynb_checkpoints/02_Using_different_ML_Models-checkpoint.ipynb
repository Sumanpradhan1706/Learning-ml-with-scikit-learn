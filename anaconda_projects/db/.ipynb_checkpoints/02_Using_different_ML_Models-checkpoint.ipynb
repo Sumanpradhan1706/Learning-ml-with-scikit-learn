{
 "cells": [
  {
   "cell_type": "code",
   "execution_count": 40,
   "id": "00dc02ca-4d13-4fc4-b5ec-e9072cdf1630",
   "metadata": {},
   "outputs": [
    {
     "name": "stdout",
     "output_type": "stream",
     "text": [
      "Requirement already satisfied: scikit-learn in c:\\users\\suman pradhan\\anaconda3\\lib\\site-packages (1.6.1)\n",
      "Requirement already satisfied: numpy>=1.19.5 in c:\\users\\suman pradhan\\anaconda3\\lib\\site-packages (from scikit-learn) (2.1.3)\n",
      "Requirement already satisfied: scipy>=1.6.0 in c:\\users\\suman pradhan\\anaconda3\\lib\\site-packages (from scikit-learn) (1.15.3)\n",
      "Requirement already satisfied: joblib>=1.2.0 in c:\\users\\suman pradhan\\anaconda3\\lib\\site-packages (from scikit-learn) (1.4.2)\n",
      "Requirement already satisfied: threadpoolctl>=3.1.0 in c:\\users\\suman pradhan\\anaconda3\\lib\\site-packages (from scikit-learn) (3.5.0)\n",
      "Note: you may need to restart the kernel to use updated packages.\n"
     ]
    }
   ],
   "source": [
    "pip install scikit-learn"
   ]
  },
  {
   "cell_type": "code",
   "execution_count": 41,
   "id": "2bef7827-1a81-4d8b-b485-4f45f4c91485",
   "metadata": {},
   "outputs": [],
   "source": [
    "from sklearn.ensemble import RandomForestClassifier"
   ]
  },
  {
   "cell_type": "code",
   "execution_count": 42,
   "id": "fc9a5e77-f668-46a7-862c-0e2ad9809a52",
   "metadata": {},
   "outputs": [],
   "source": [
    "features = [\n",
    "    [150, 0],  # Apple\n",
    "    [170, 0],  # Apple\n",
    "    [130, 1],  # Orange\n",
    "    [120, 1],  # Orange\n",
    "]"
   ]
  },
  {
   "cell_type": "code",
   "execution_count": 43,
   "id": "cf970d8e-b723-4d9b-b5dd-efcdc16cd0d3",
   "metadata": {},
   "outputs": [],
   "source": [
    "labels = [\"apple\", \"apple\", \"orange\", \"orange\"]"
   ]
  },
  {
   "cell_type": "code",
   "execution_count": 44,
   "id": "1d3c53d1-2e18-49f2-a852-256905a81b65",
   "metadata": {},
   "outputs": [],
   "source": [
    "clf = RandomForestClassifier()\n"
   ]
  },
  {
   "cell_type": "code",
   "execution_count": 45,
   "id": "666639b4-fc9e-41d6-8278-d728b07bb002",
   "metadata": {},
   "outputs": [],
   "source": [
    "clf = clf.fit(features, labels)"
   ]
  },
  {
   "cell_type": "code",
   "execution_count": 46,
   "id": "6a8d11f1-f016-4818-b87d-c57606368af9",
   "metadata": {},
   "outputs": [],
   "source": [
    "prediction = clf.predict([[160, 0]])"
   ]
  },
  {
   "cell_type": "code",
   "execution_count": 47,
   "id": "1f85503a-aaf3-4a7a-989a-2a684fecd25a",
   "metadata": {},
   "outputs": [
    {
     "name": "stdout",
     "output_type": "stream",
     "text": [
      "The fruit is apple\n"
     ]
    }
   ],
   "source": [
    "print(f\"The fruit is {prediction[0]}\")"
   ]
  },
  {
   "cell_type": "code",
   "execution_count": 48,
   "id": "1aa087f8-a0ec-44eb-b998-c846f823ca9c",
   "metadata": {},
   "outputs": [],
   "source": [
    "from sklearn.tree import plot_tree"
   ]
  },
  {
   "cell_type": "code",
   "execution_count": 49,
   "id": "647de104-a9d2-4e93-b069-18d412453a16",
   "metadata": {},
   "outputs": [],
   "source": [
    "import matplotlib.pyplot as plt"
   ]
  },
  {
   "cell_type": "code",
   "execution_count": 50,
   "id": "743a62d7-505f-4f5e-976b-745df6f27004",
   "metadata": {},
   "outputs": [
    {
     "data": {
      "text/plain": [
       "<Figure size 1600x800 with 0 Axes>"
      ]
     },
     "execution_count": 50,
     "metadata": {},
     "output_type": "execute_result"
    },
    {
     "data": {
      "text/plain": [
       "<Figure size 1600x800 with 0 Axes>"
      ]
     },
     "metadata": {},
     "output_type": "display_data"
    }
   ],
   "source": [
    "plt.figure(figsize=(16,8))"
   ]
  },
  {
   "cell_type": "code",
   "execution_count": null,
   "id": "1e5877cb-3489-418b-ab3f-e1f01522bf3c",
   "metadata": {},
   "outputs": [],
   "source": []
  }
 ],
 "metadata": {
  "kernelspec": {
   "display_name": "Python [conda env:base] *",
   "language": "python",
   "name": "conda-base-py"
  },
  "language_info": {
   "codemirror_mode": {
    "name": "ipython",
    "version": 3
   },
   "file_extension": ".py",
   "mimetype": "text/x-python",
   "name": "python",
   "nbconvert_exporter": "python",
   "pygments_lexer": "ipython3",
   "version": "3.13.5"
  }
 },
 "nbformat": 4,
 "nbformat_minor": 5
}
