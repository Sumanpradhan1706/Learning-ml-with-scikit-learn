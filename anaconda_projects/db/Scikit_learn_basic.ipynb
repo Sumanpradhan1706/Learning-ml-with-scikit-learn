{
 "cells": [
  {
   "cell_type": "code",
   "execution_count": 19,
   "id": "00dc02ca-4d13-4fc4-b5ec-e9072cdf1630",
   "metadata": {},
   "outputs": [
    {
     "name": "stdout",
     "output_type": "stream",
     "text": [
      "Requirement already satisfied: scikit-learn in c:\\users\\suman pradhan\\anaconda3\\lib\\site-packages (1.6.1)\n",
      "Requirement already satisfied: numpy>=1.19.5 in c:\\users\\suman pradhan\\anaconda3\\lib\\site-packages (from scikit-learn) (2.1.3)\n",
      "Requirement already satisfied: scipy>=1.6.0 in c:\\users\\suman pradhan\\anaconda3\\lib\\site-packages (from scikit-learn) (1.15.3)\n",
      "Requirement already satisfied: joblib>=1.2.0 in c:\\users\\suman pradhan\\anaconda3\\lib\\site-packages (from scikit-learn) (1.4.2)\n",
      "Requirement already satisfied: threadpoolctl>=3.1.0 in c:\\users\\suman pradhan\\anaconda3\\lib\\site-packages (from scikit-learn) (3.5.0)\n",
      "Note: you may need to restart the kernel to use updated packages.\n"
     ]
    }
   ],
   "source": [
    "pip install scikit-learn"
   ]
  },
  {
   "cell_type": "code",
   "execution_count": 20,
   "id": "2bef7827-1a81-4d8b-b485-4f45f4c91485",
   "metadata": {},
   "outputs": [],
   "source": [
    "from sklearn.tree import DecisionTreeClassifier"
   ]
  },
  {
   "cell_type": "code",
   "execution_count": 21,
   "id": "fc9a5e77-f668-46a7-862c-0e2ad9809a52",
   "metadata": {},
   "outputs": [],
   "source": [
    "features = [\n",
    "    [150, 0],  # Apple\n",
    "    [170, 0],  # Apple\n",
    "    [130, 1],  # Orange\n",
    "    [120, 1],  # Orange\n",
    "]"
   ]
  },
  {
   "cell_type": "code",
   "execution_count": 22,
   "id": "cf970d8e-b723-4d9b-b5dd-efcdc16cd0d3",
   "metadata": {},
   "outputs": [],
   "source": [
    "labels = [\"apple\", \"apple\", \"orange\", \"orange\"]"
   ]
  },
  {
   "cell_type": "code",
   "execution_count": 23,
   "id": "1d3c53d1-2e18-49f2-a852-256905a81b65",
   "metadata": {},
   "outputs": [],
   "source": [
    "clf = DecisionTreeClassifier()\n"
   ]
  },
  {
   "cell_type": "code",
   "execution_count": 24,
   "id": "666639b4-fc9e-41d6-8278-d728b07bb002",
   "metadata": {},
   "outputs": [],
   "source": [
    "clf = clf.fit(features, labels)"
   ]
  },
  {
   "cell_type": "code",
   "execution_count": 26,
   "id": "6a8d11f1-f016-4818-b87d-c57606368af9",
   "metadata": {},
   "outputs": [],
   "source": [
    "prediction = clf.predict([[160, 0]])"
   ]
  },
  {
   "cell_type": "code",
   "execution_count": 27,
   "id": "1f85503a-aaf3-4a7a-989a-2a684fecd25a",
   "metadata": {},
   "outputs": [
    {
     "name": "stdout",
     "output_type": "stream",
     "text": [
      "The fruit is apple\n"
     ]
    }
   ],
   "source": [
    "print(f\"The fruit is {prediction[0]}\")"
   ]
  },
  {
   "cell_type": "code",
   "execution_count": null,
   "id": "1aa087f8-a0ec-44eb-b998-c846f823ca9c",
   "metadata": {},
   "outputs": [],
   "source": []
  }
 ],
 "metadata": {
  "kernelspec": {
   "display_name": "Python [conda env:base] *",
   "language": "python",
   "name": "conda-base-py"
  },
  "language_info": {
   "codemirror_mode": {
    "name": "ipython",
    "version": 3
   },
   "file_extension": ".py",
   "mimetype": "text/x-python",
   "name": "python",
   "nbconvert_exporter": "python",
   "pygments_lexer": "ipython3",
   "version": "3.13.5"
  }
 },
 "nbformat": 4,
 "nbformat_minor": 5
}
